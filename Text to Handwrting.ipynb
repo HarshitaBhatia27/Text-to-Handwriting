{
 "cells": [
  {
   "cell_type": "code",
   "execution_count": 5,
   "id": "fba8f823",
   "metadata": {},
   "outputs": [],
   "source": [
    "import pywhatkit as pw"
   ]
  },
  {
   "cell_type": "code",
   "execution_count": 6,
   "id": "8a793315",
   "metadata": {},
   "outputs": [],
   "source": [
    "text = \"\"\"PyWhatKit is a Python library with various helpful features. \n",
    "It is an easy to use library which does not requires you to do some additional setup.\"\"\""
   ]
  },
  {
   "cell_type": "code",
   "execution_count": 7,
   "id": "6d862e3f",
   "metadata": {},
   "outputs": [
    {
     "name": "stdout",
     "output_type": "stream",
     "text": [
      "Done\n"
     ]
    }
   ],
   "source": [
    "pw.text_to_handwriting(text,\"writing.png\",[0,0,138])\n",
    "print(\"Done\")"
   ]
  },
  {
   "cell_type": "code",
   "execution_count": null,
   "id": "05cea0ef",
   "metadata": {},
   "outputs": [],
   "source": []
  }
 ],
 "metadata": {
  "kernelspec": {
   "display_name": "Python 3 (ipykernel)",
   "language": "python",
   "name": "python3"
  },
  "language_info": {
   "codemirror_mode": {
    "name": "ipython",
    "version": 3
   },
   "file_extension": ".py",
   "mimetype": "text/x-python",
   "name": "python",
   "nbconvert_exporter": "python",
   "pygments_lexer": "ipython3",
   "version": "3.8.8"
  }
 },
 "nbformat": 4,
 "nbformat_minor": 5
}
